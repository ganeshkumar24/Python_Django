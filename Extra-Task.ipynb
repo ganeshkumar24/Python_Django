{
 "cells": [
  {
   "cell_type": "markdown",
   "id": "eb572d25",
   "metadata": {},
   "source": [
    "# Extra task"
   ]
  },
  {
   "cell_type": "code",
   "execution_count": 2,
   "id": "8b42035c",
   "metadata": {},
   "outputs": [],
   "source": [
    "# Question 1\n",
    "x = [100,200,300,400,500,[1,2,3,4,5,[10,20,30,40,50],6,7,8,9],600,700,800]\n",
    "al1 = x[5][0:5]"
   ]
  },
  {
   "cell_type": "code",
   "execution_count": 3,
   "id": "01f0b1c8",
   "metadata": {},
   "outputs": [
    {
     "data": {
      "text/plain": [
       "[600, 700]"
      ]
     },
     "execution_count": 3,
     "metadata": {},
     "output_type": "execute_result"
    }
   ],
   "source": [
    "al2 = x[6:8]\n",
    "al2"
   ]
  },
  {
   "cell_type": "code",
   "execution_count": 5,
   "id": "ae355715",
   "metadata": {},
   "outputs": [
    {
     "data": {
      "text/plain": [
       "[100, 300, 500, 600, 800]"
      ]
     },
     "execution_count": 5,
     "metadata": {},
     "output_type": "execute_result"
    }
   ],
   "source": [
    "#al3 = [x[i] for i in range(0,10,2)]\n",
    "a13 = x[0:10:2]\n",
    "a13"
   ]
  },
  {
   "cell_type": "code",
   "execution_count": 6,
   "id": "bb5a97d3",
   "metadata": {},
   "outputs": [
    {
     "name": "stdout",
     "output_type": "stream",
     "text": [
      "[800, 700, 600, [1, 2, 3, 4, 5, [10, 20, 30, 40, 50], 6, 7, 8, 9], 500, 400, 300, 200, 100]\n"
     ]
    }
   ],
   "source": [
    "a14 = x[::-1]\n",
    "print(a14)"
   ]
  },
  {
   "cell_type": "code",
   "execution_count": 7,
   "id": "5e110126",
   "metadata": {},
   "outputs": [
    {
     "data": {
      "text/plain": [
       "[10]"
      ]
     },
     "execution_count": 7,
     "metadata": {},
     "output_type": "execute_result"
    }
   ],
   "source": [
    "a15 = [x[5][5][0]]\n",
    "a15"
   ]
  },
  {
   "cell_type": "code",
   "execution_count": 11,
   "id": "1832d0da",
   "metadata": {},
   "outputs": [
    {
     "data": {
      "text/plain": [
       "range"
      ]
     },
     "execution_count": 11,
     "metadata": {},
     "output_type": "execute_result"
    }
   ],
   "source": [
    "#Question 2\n",
    "list1 = range(1,1000,1)\n",
    "#list2 = xrange(1,1000,1)\n",
    "type(list1)\n",
    "#1)range in python3 returns range object instead of list\n",
    "#2)xrange is faster than range in Python 2, \n",
    "#3)xrange changed to range in Python 3\n"
   ]
  },
  {
   "cell_type": "code",
   "execution_count": 30,
   "id": "c25620bd",
   "metadata": {},
   "outputs": [
    {
     "name": "stdout",
     "output_type": "stream",
     "text": [
      "6\n",
      "12\n",
      "18\n",
      "24\n",
      "30\n",
      "36\n",
      "42\n",
      "48\n",
      "54\n",
      "60\n",
      "66\n",
      "72\n",
      "78\n",
      "84\n",
      "90\n",
      "96\n"
     ]
    }
   ],
   "source": [
    "#Question 4\n",
    "for num in range(1,101):\n",
    "    if(num%3==0 and num%2==0):\n",
    "        print(num)\n",
    "    "
   ]
  },
  {
   "cell_type": "code",
   "execution_count": 33,
   "id": "c4c0999d",
   "metadata": {},
   "outputs": [
    {
     "name": "stdout",
     "output_type": "stream",
     "text": [
      "2 i\n",
      "6 A\n",
      "8 I\n",
      "10 i\n",
      "gnirtSAsIsihT\n"
     ]
    }
   ],
   "source": [
    "#Question 5\n",
    "str1 = \"ThisIsAString\"\n",
    "str1 = str1[::-1]\n",
    "print(str1)\n",
    "for i in range(len(str1)):\n",
    "    if(str1[i] in \"aeiouAEIOU\"):\n",
    "        print(i,str1[i])"
   ]
  },
  {
   "cell_type": "code",
   "execution_count": 37,
   "id": "1919287c",
   "metadata": {},
   "outputs": [
    {
     "name": "stdout",
     "output_type": "stream",
     "text": [
      "my\n",
      "name\n",
      "is\n"
     ]
    }
   ],
   "source": [
    "#Question 6\n",
    "str1 = \"hello my name is abcde\"\n",
    "list1 = str1.split(\" \")\n",
    "for i in list1:\n",
    "    if(len(i)%2 ==0):\n",
    "        print(i)"
   ]
  },
  {
   "cell_type": "code",
   "execution_count": 42,
   "id": "d535b9b8",
   "metadata": {},
   "outputs": [
    {
     "name": "stdout",
     "output_type": "stream",
     "text": [
      "1 7\n",
      "2 6\n",
      "3 5\n",
      "9 -1\n"
     ]
    }
   ],
   "source": [
    "#Question 7\n",
    "x = [1,2,3,4,5,6,7,8,9,-1]\n",
    "num = 8\n",
    "for i in range(len(x)):\n",
    "    for j in range(i,len(x)):\n",
    "        if(i!=j and x[i]+x[j]==num):\n",
    "            print(x[i],x[j])"
   ]
  },
  {
   "cell_type": "code",
   "execution_count": 46,
   "id": "39d5e45f",
   "metadata": {},
   "outputs": [
    {
     "name": "stdout",
     "output_type": "stream",
     "text": [
      "Enter number between 1-50: 8\n",
      "Enter number between 1-50: 6\n",
      "Enter number between 1-50: 5\n",
      "Enter number between 1-50: 5\n",
      "Enter number between 1-50: 5\n",
      "Enter number between 1-50: 5\n",
      "Enter number between 1-50: 5\n",
      "Enter number between 1-50: 2\n",
      "Enter number between 1-50: 2\n",
      "Enter number between 1-50: 5\n",
      "Enter number between 1-50: 5\n",
      "Enter number between 1-50: 3\n",
      "Enter number between 1-50: 2\n",
      "[8, 6, 2, 2, 2]\n",
      "[5, 5, 5, 5, 5]\n"
     ]
    }
   ],
   "source": [
    "#Question 8\n",
    "even_list = []\n",
    "odd_list = []\n",
    "while len(odd_list)<5 or len(even_list)<5:\n",
    "    x = int(input(\"Enter number between 1-50: \"))\n",
    "    if(x%2==0):\n",
    "        if len(even_list)==5:\n",
    "            continue\n",
    "        else:\n",
    "            even_list.append(x)\n",
    "    else:\n",
    "        if(len(odd_list)==5):\n",
    "            continue\n",
    "        else:\n",
    "            odd_list.append(x)\n",
    "print(even_list)\n",
    "print(odd_list)\n",
    "    "
   ]
  },
  {
   "cell_type": "code",
   "execution_count": 38,
   "id": "f5e650e2",
   "metadata": {},
   "outputs": [
    {
     "name": "stdout",
     "output_type": "stream",
     "text": [
      "5\n"
     ]
    }
   ],
   "source": [
    "#Question 9\n",
    "str1 = \"12abcbacbaba344ab\"\n",
    "char1 = 'a'\n",
    "count = 0\n",
    "for i in str1:\n",
    "    if i==char1:\n",
    "        count +=1\n",
    "print(count)"
   ]
  },
  {
   "cell_type": "code",
   "execution_count": 40,
   "id": "7728bb6d",
   "metadata": {},
   "outputs": [
    {
     "name": "stdout",
     "output_type": "stream",
     "text": [
      "(2, 4, 6, 8, 10)\n"
     ]
    }
   ],
   "source": [
    "#Question 10\n",
    "t1 = (1,2,3,4,5,6,7,8,9,10)\n",
    "t2 = tuple(i for i in t1 if i%2==0)\n",
    "print(t2)"
   ]
  },
  {
   "cell_type": "markdown",
   "id": "475aa4fc",
   "metadata": {},
   "source": [
    "# Task 2"
   ]
  },
  {
   "cell_type": "code",
   "execution_count": 18,
   "id": "5b256ded",
   "metadata": {},
   "outputs": [],
   "source": [
    "#Question 1\n"
   ]
  },
  {
   "cell_type": "code",
   "execution_count": 19,
   "id": "62e193cf",
   "metadata": {},
   "outputs": [],
   "source": [
    "#Question 2\n",
    "\n"
   ]
  },
  {
   "cell_type": "code",
   "execution_count": 20,
   "id": "cfe75068",
   "metadata": {},
   "outputs": [],
   "source": [
    "#Question 3\n",
    "\n",
    "\n",
    "            \n",
    "    \n",
    "        "
   ]
  },
  {
   "cell_type": "code",
   "execution_count": 21,
   "id": "b44668a1",
   "metadata": {},
   "outputs": [],
   "source": [
    "#Question 4\n",
    "\n",
    "    "
   ]
  },
  {
   "cell_type": "code",
   "execution_count": 22,
   "id": "1ae2cf4e",
   "metadata": {},
   "outputs": [],
   "source": [
    "#Question 5\n"
   ]
  },
  {
   "cell_type": "code",
   "execution_count": 23,
   "id": "d6446c00",
   "metadata": {},
   "outputs": [],
   "source": [
    "#Question 6\n"
   ]
  },
  {
   "cell_type": "code",
   "execution_count": 24,
   "id": "80b96b76",
   "metadata": {},
   "outputs": [],
   "source": [
    "#Question 7\n"
   ]
  },
  {
   "cell_type": "code",
   "execution_count": 25,
   "id": "bf16ef10",
   "metadata": {},
   "outputs": [],
   "source": [
    "#Question 8\n"
   ]
  },
  {
   "cell_type": "code",
   "execution_count": 26,
   "id": "b361d3f5",
   "metadata": {},
   "outputs": [],
   "source": [
    "#Question 9\n",
    "\n",
    "    "
   ]
  },
  {
   "cell_type": "code",
   "execution_count": 27,
   "id": "49fe2564",
   "metadata": {},
   "outputs": [],
   "source": [
    "#Question 9\n"
   ]
  },
  {
   "cell_type": "code",
   "execution_count": null,
   "id": "ea231e0d",
   "metadata": {},
   "outputs": [],
   "source": [
    "#Question 10\n"
   ]
  },
  {
   "cell_type": "code",
   "execution_count": null,
   "id": "dd2c0295",
   "metadata": {},
   "outputs": [],
   "source": [
    "#Question 11\n"
   ]
  },
  {
   "cell_type": "code",
   "execution_count": null,
   "id": "183e9a71",
   "metadata": {},
   "outputs": [],
   "source": []
  },
  {
   "cell_type": "code",
   "execution_count": null,
   "id": "ed2d5b89",
   "metadata": {},
   "outputs": [],
   "source": []
  }
 ],
 "metadata": {
  "kernelspec": {
   "display_name": "Python 3",
   "language": "python",
   "name": "python3"
  },
  "language_info": {
   "codemirror_mode": {
    "name": "ipython",
    "version": 3
   },
   "file_extension": ".py",
   "mimetype": "text/x-python",
   "name": "python",
   "nbconvert_exporter": "python",
   "pygments_lexer": "ipython3",
   "version": "3.8.8"
  }
 },
 "nbformat": 4,
 "nbformat_minor": 5
}
