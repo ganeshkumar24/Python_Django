{
 "cells": [
  {
   "cell_type": "markdown",
   "id": "eb572d25",
   "metadata": {},
   "source": [
    "# Task 3"
   ]
  },
  {
   "cell_type": "code",
   "execution_count": 21,
   "id": "8b42035c",
   "metadata": {},
   "outputs": [
    {
     "name": "stdout",
     "output_type": "stream",
     "text": [
      "[1, 2, 3, 4, 5, 6, 7, 8, 9, 10] ['a', 'b', 'c', 'd', 'e', 'f', 'g', 'h', 'i', 'j'] [1.2, 3.5, 2.7, 8.0, 8.4] [(1+2j), (5+3j), (6+8j)]\n"
     ]
    }
   ],
   "source": [
    "# Question 1\n",
    "int_list = [1,2,3,4,5,6,7,8,9,10]\n",
    "string_list =['a','b','c','d','e','f','g','h','i','j']\n",
    "float_list = [1.2,3.5,2.7,8.0,8.4]\n",
    "complex_list = [1+2j, 5+3j, 6+8j]\n",
    "print(int_list,string_list,float_list,complex_list )"
   ]
  },
  {
   "cell_type": "code",
   "execution_count": 22,
   "id": "1832d0da",
   "metadata": {},
   "outputs": [
    {
     "name": "stdout",
     "output_type": "stream",
     "text": [
      "[3, 4]\n"
     ]
    }
   ],
   "source": [
    "#Question 2\n",
    "ll = [5,6,3,4,8]\n",
    "print(ll[2:4])"
   ]
  },
  {
   "cell_type": "code",
   "execution_count": 38,
   "id": "c25620bd",
   "metadata": {},
   "outputs": [
    {
     "name": "stdout",
     "output_type": "stream",
     "text": [
      "26 2880\n"
     ]
    }
   ],
   "source": [
    "#Question 3\n",
    "from functools import reduce\n",
    "list1 = [5,6,3,4,8]\n",
    "sm = reduce((lambda x, y: x + y), list1)\n",
    "mul = reduce((lambda x, y: x * y), list1)\n",
    "print(sm,mul)"
   ]
  },
  {
   "cell_type": "code",
   "execution_count": 36,
   "id": "c4c0999d",
   "metadata": {},
   "outputs": [
    {
     "name": "stdout",
     "output_type": "stream",
     "text": [
      "max is 9\n",
      "min is 1\n"
     ]
    }
   ],
   "source": [
    "#Question 4\n",
    "a_list = [5, 2, 7, 6, 3, 1, 9]\n",
    "print(\"max is\", max(a_list))\n",
    "print(\"min is\", min(a_list))"
   ]
  },
  {
   "cell_type": "code",
   "execution_count": 39,
   "id": "99fa0324",
   "metadata": {},
   "outputs": [
    {
     "name": "stdout",
     "output_type": "stream",
     "text": [
      "[5, 7, 3, 1, 9]\n"
     ]
    }
   ],
   "source": [
    "#Question 5\n",
    "a_list = [5, 2, 7, 6, 3, 1, 9]\n",
    "new_list = []\n",
    "for i in a_list:\n",
    "    if(i%2 !=0):\n",
    "        new_list.append(i)\n",
    "print(new_list)"
   ]
  },
  {
   "cell_type": "code",
   "execution_count": 26,
   "id": "1919287c",
   "metadata": {},
   "outputs": [
    {
     "name": "stdout",
     "output_type": "stream",
     "text": [
      "[1, 4, 9, 16, 25, 625, 676, 729, 784, 841, 900]\n"
     ]
    }
   ],
   "source": [
    "#Question 6\n",
    "output = []\n",
    "for i in list(range(1,6)) + list(range(25,31)):\n",
    "    output.append(i*i)\n",
    "print(output)"
   ]
  },
  {
   "cell_type": "code",
   "execution_count": 23,
   "id": "d535b9b8",
   "metadata": {},
   "outputs": [
    {
     "name": "stdout",
     "output_type": "stream",
     "text": [
      "[1, 3, 5, 7, 9, 10, 2, 4, 6, 8]\n"
     ]
    }
   ],
   "source": [
    "#Question 7\n",
    "list1 = [1,3,5,7,9,10]\n",
    "list2 = [2,4,6,8]\n",
    "list1.extend(list2)\n",
    "print(list1)"
   ]
  },
  {
   "cell_type": "code",
   "execution_count": 31,
   "id": "39d5e45f",
   "metadata": {},
   "outputs": [
    {
     "name": "stdout",
     "output_type": "stream",
     "text": [
      "{1: 10, 2: 20, 3: 30, 4: 40}\n"
     ]
    }
   ],
   "source": [
    "#Question 8\n",
    "a={1:10,2:20} \n",
    "b={3:30,4:40}\n",
    "a.update(b)\n",
    "print(a)"
   ]
  },
  {
   "cell_type": "code",
   "execution_count": 33,
   "id": "ae73ec82",
   "metadata": {},
   "outputs": [
    {
     "name": "stdout",
     "output_type": "stream",
     "text": [
      "{1: 1, 2: 4, 3: 9, 4: 16}\n"
     ]
    }
   ],
   "source": [
    "#Question 9\n",
    "n = 5\n",
    "dict1 = {}\n",
    "for i in range(1,n):\n",
    "    dict1[i] = i*i\n",
    "print(dict1)\n",
    "    "
   ]
  },
  {
   "cell_type": "code",
   "execution_count": 35,
   "id": "c51947ed",
   "metadata": {},
   "outputs": [
    {
     "name": "stdout",
     "output_type": "stream",
     "text": [
      "Enter numbers separated by comma: Eg: 34,67,55,33,12,9834,67,55,33,12,98\n",
      "['34', '67', '55', '33', '12', '98']\n",
      "('34', '67', '55', '33', '12', '98')\n"
     ]
    }
   ],
   "source": [
    "#Question 10\n",
    "lst1 = str(input(\"Enter numbers separated by comma: Eg: 34,67,55,33,12,98\"))\n",
    "lst2 = lst1.split(\",\")\n",
    "tpl1 = tuple(lst2)\n",
    "print(lst2)\n",
    "print(tpl1)"
   ]
  },
  {
   "cell_type": "markdown",
   "id": "475aa4fc",
   "metadata": {},
   "source": [
    "# Task 4"
   ]
  },
  {
   "cell_type": "code",
   "execution_count": 27,
   "id": "5b256ded",
   "metadata": {},
   "outputs": [
    {
     "name": "stdout",
     "output_type": "stream",
     "text": [
      "dcba4321\n"
     ]
    }
   ],
   "source": [
    "#Question 1\n",
    "str1 = \"1234abcd\"\n",
    "print(str1[::-1])"
   ]
  },
  {
   "cell_type": "code",
   "execution_count": 40,
   "id": "62e193cf",
   "metadata": {},
   "outputs": [
    {
     "name": "stdout",
     "output_type": "stream",
     "text": [
      "12 3\n"
     ]
    }
   ],
   "source": [
    "#Question 2\n",
    "str1 = \"abcSdefPghijQkl\"\n",
    "upper = 0\n",
    "lower=0\n",
    "for i in str1:\n",
    "    if i.isupper():\n",
    "        upper+=1\n",
    "    if i.islower():\n",
    "        lower+=1\n",
    "print(lower,upper)\n",
    "        \n"
   ]
  },
  {
   "cell_type": "code",
   "execution_count": 17,
   "id": "cfe75068",
   "metadata": {},
   "outputs": [
    {
     "name": "stdout",
     "output_type": "stream",
     "text": [
      "[1, 3, 5, 6]\n",
      "[1, 3, 5, 6]\n"
     ]
    }
   ],
   "source": [
    "#Question 3\n",
    "def f1(lst1):\n",
    "    lst1 = list(set(lst1))\n",
    "    return(lst1)\n",
    "\n",
    "\n",
    "\n",
    "def f2(lst2):\n",
    "    output = []\n",
    "    for i in lst2:\n",
    "        if i not in output:\n",
    "            output.append(i)\n",
    "    return(output)\n",
    "\n",
    "lst1 = [1, 5, 3, 6, 3, 5, 6, 1]\n",
    "lst2 = [1, 5, 3, 6, 3, 5, 6, 1]\n",
    "print(f1(lst1))\n",
    "print(f1(lst2))\n",
    "        "
   ]
  },
  {
   "cell_type": "code",
   "execution_count": 23,
   "id": "b44668a1",
   "metadata": {},
   "outputs": [
    {
     "name": "stdout",
     "output_type": "stream",
     "text": [
      "hello-man-practice-world\n"
     ]
    }
   ],
   "source": [
    "#Question 4\n",
    "#str1 = str(input(\"Input Hyphen separated string: \"))\n",
    "str1 = \"hello-world-practice-man\"\n",
    "lst1 = str1.split('-')\n",
    "lst1.sort()\n",
    "print(\"-\".join(lst1))"
   ]
  },
  {
   "cell_type": "code",
   "execution_count": 42,
   "id": "d6446c00",
   "metadata": {},
   "outputs": [
    {
     "name": "stdout",
     "output_type": "stream",
     "text": [
      "HELLO WORLD PRACTICE MAKES MAN PERFECT\n"
     ]
    }
   ],
   "source": [
    "#Question 5\n",
    "inp = 'Hello world Practice makes man perfect'\n",
    "print(inp.upper())"
   ]
  },
  {
   "cell_type": "code",
   "execution_count": 43,
   "id": "80b96b76",
   "metadata": {},
   "outputs": [
    {
     "name": "stdout",
     "output_type": "stream",
     "text": [
      "46\n"
     ]
    }
   ],
   "source": [
    "#Question 6\n",
    "def sum(inp1, inp2):\n",
    "    x = int(inp1)\n",
    "    y = int(inp2)\n",
    "    print(x+y)\n",
    "sum('12','34')"
   ]
  },
  {
   "cell_type": "code",
   "execution_count": 14,
   "id": "0011fef1",
   "metadata": {},
   "outputs": [
    {
     "name": "stdout",
     "output_type": "stream",
     "text": [
      "Input string 1: india\n",
      "Input string 2: python\n",
      "india python\n"
     ]
    }
   ],
   "source": [
    "#Question 7\n",
    "def fn1():\n",
    "    str1 = str(input(\"Input string 1: \"))\n",
    "    str2 = str(input(\"Input string 2: \"))\n",
    "    if(len(str1)>len(str2)):\n",
    "        print(str1)\n",
    "    elif(len(str2)<len(str1)):\n",
    "        print(str2)\n",
    "    else:\n",
    "        print(str1,str2)\n",
    "fn1()\n",
    "        "
   ]
  },
  {
   "cell_type": "code",
   "execution_count": 13,
   "id": "bf16ef10",
   "metadata": {},
   "outputs": [
    {
     "name": "stdout",
     "output_type": "stream",
     "text": [
      "(20, 19)\n"
     ]
    }
   ],
   "source": [
    "#Question 8\n",
    "import random\n",
    "def print_tuple():\n",
    "    a = random.randint(0,20)\n",
    "    b = random.randint(0,20)\n",
    "    return((a,b))\n",
    "y = print_tuple()\n",
    "print(y)"
   ]
  },
  {
   "cell_type": "code",
   "execution_count": 46,
   "id": "b361d3f5",
   "metadata": {},
   "outputs": [
    {
     "name": "stdout",
     "output_type": "stream",
     "text": [
      "0 EVEN\n",
      "1 ODD\n",
      "2 EVEN\n",
      "3 ODD\n",
      "4 EVEN\n",
      "5 ODD\n",
      "6 EVEN\n",
      "7 ODD\n",
      "8 EVEN\n",
      "9 ODD\n",
      "10 EVEN\n",
      "11 ODD\n",
      "12 EVEN\n"
     ]
    }
   ],
   "source": [
    "#Question 9\n",
    "def showNumbers(limit):\n",
    "    for i in range(0,limit):\n",
    "        if(i%2==0):\n",
    "            print(i, \"EVEN\")\n",
    "        else:\n",
    "            print(i,\"ODD\")\n",
    "showNumbers(13)"
   ]
  },
  {
   "cell_type": "code",
   "execution_count": 1,
   "id": "ea231e0d",
   "metadata": {},
   "outputs": [
    {
     "name": "stdout",
     "output_type": "stream",
     "text": [
      "[2, 4, 6, 8, 10, 12, 14, 16, 18, 20]\n"
     ]
    }
   ],
   "source": [
    "#Question 10\n",
    "a = filter(lambda x:x%2==0,range(1,21))\n",
    "print(list(a))"
   ]
  },
  {
   "cell_type": "code",
   "execution_count": 10,
   "id": "dd2c0295",
   "metadata": {},
   "outputs": [
    {
     "name": "stdout",
     "output_type": "stream",
     "text": [
      "[4, 16, 36, 64, 100]\n"
     ]
    }
   ],
   "source": [
    "#Question 11\n",
    "lst1 = [1,2,3,4,5,6,7,8,9,10]\n",
    "c = filter(lambda x:x%2==0, lst1)\n",
    "c1 = map(lambda x:x*x, list(c))\n",
    "print(list(c1))"
   ]
  },
  {
   "cell_type": "code",
   "execution_count": 9,
   "id": "28ad0207",
   "metadata": {},
   "outputs": [
    {
     "name": "stdout",
     "output_type": "stream",
     "text": [
      "Exception occured!\n"
     ]
    }
   ],
   "source": [
    "#Question 12\n",
    "def f():\n",
    "    try:\n",
    "        x = 5/0\n",
    "    except Exception:\n",
    "        print(\"Exception occured!\")\n",
    "f()"
   ]
  },
  {
   "cell_type": "code",
   "execution_count": null,
   "id": "1fbd2530",
   "metadata": {},
   "outputs": [],
   "source": [
    "#Question 13\n",
    "lst1 = [1,2,3,4,5,6,7]\n",
    "c = reduce(lambda x,y:x*10+y, lst1)\n",
    "print(c)"
   ]
  },
  {
   "cell_type": "code",
   "execution_count": 2,
   "id": "291b6b00",
   "metadata": {},
   "outputs": [
    {
     "name": "stdout",
     "output_type": "stream",
     "text": [
      "[7, 14, 28, 35, 49]\n"
     ]
    }
   ],
   "source": [
    "#Question 14\n",
    "lst1 = range(1,50)\n",
    "c = filter(lambda x:x%3!=0 and x%7 ==0, lst1)\n",
    "print(list(c))"
   ]
  },
  {
   "cell_type": "code",
   "execution_count": 6,
   "id": "3215cc3c",
   "metadata": {},
   "outputs": [
    {
     "name": "stdout",
     "output_type": "stream",
     "text": [
      "[1, 4, 9, 16, 25, 36, 49]\n"
     ]
    }
   ],
   "source": [
    "#Question 15\n",
    "lst1 = [1,2,3,4,5,6,7]\n",
    "c = map(lambda x:x*x, lst1)\n",
    "print(list(c))"
   ]
  },
  {
   "cell_type": "code",
   "execution_count": 3,
   "id": "343a0eb5",
   "metadata": {},
   "outputs": [
    {
     "name": "stdout",
     "output_type": "stream",
     "text": [
      "2\n"
     ]
    }
   ],
   "source": [
    "#Question 16a\n",
    "def foo():\n",
    "    try:\n",
    "        return 1\n",
    "    finally:\n",
    "        return 2\n",
    "k = foo()\n",
    "print(k)"
   ]
  },
  {
   "cell_type": "code",
   "execution_count": 4,
   "id": "09a9543c",
   "metadata": {},
   "outputs": [
    {
     "name": "stdout",
     "output_type": "stream",
     "text": [
      "after f\n",
      "after f?\n"
     ]
    },
    {
     "ename": "NameError",
     "evalue": "name 'f' is not defined",
     "output_type": "error",
     "traceback": [
      "\u001b[1;31m---------------------------------------------------------------------------\u001b[0m",
      "\u001b[1;31mNameError\u001b[0m                                 Traceback (most recent call last)",
      "\u001b[1;32m<ipython-input-4-5966092b1b24>\u001b[0m in \u001b[0;36m<module>\u001b[1;34m\u001b[0m\n\u001b[0;32m      6\u001b[0m         \u001b[0mprint\u001b[0m\u001b[1;33m(\u001b[0m\u001b[1;34m'after f'\u001b[0m\u001b[1;33m)\u001b[0m\u001b[1;33m\u001b[0m\u001b[1;33m\u001b[0m\u001b[0m\n\u001b[0;32m      7\u001b[0m         \u001b[0mprint\u001b[0m\u001b[1;33m(\u001b[0m\u001b[1;34m'after f?'\u001b[0m\u001b[1;33m)\u001b[0m\u001b[1;33m\u001b[0m\u001b[1;33m\u001b[0m\u001b[0m\n\u001b[1;32m----> 8\u001b[1;33m \u001b[0ma\u001b[0m\u001b[1;33m(\u001b[0m\u001b[1;33m)\u001b[0m\u001b[1;33m\u001b[0m\u001b[1;33m\u001b[0m\u001b[0m\n\u001b[0m",
      "\u001b[1;32m<ipython-input-4-5966092b1b24>\u001b[0m in \u001b[0;36ma\u001b[1;34m()\u001b[0m\n\u001b[0;32m      2\u001b[0m \u001b[1;32mdef\u001b[0m \u001b[0ma\u001b[0m\u001b[1;33m(\u001b[0m\u001b[1;33m)\u001b[0m\u001b[1;33m:\u001b[0m\u001b[1;33m\u001b[0m\u001b[1;33m\u001b[0m\u001b[0m\n\u001b[0;32m      3\u001b[0m     \u001b[1;32mtry\u001b[0m\u001b[1;33m:\u001b[0m\u001b[1;33m\u001b[0m\u001b[1;33m\u001b[0m\u001b[0m\n\u001b[1;32m----> 4\u001b[1;33m         \u001b[0mf\u001b[0m\u001b[1;33m(\u001b[0m\u001b[0mx\u001b[0m\u001b[1;33m,\u001b[0m \u001b[1;36m4\u001b[0m\u001b[1;33m)\u001b[0m\u001b[1;33m\u001b[0m\u001b[1;33m\u001b[0m\u001b[0m\n\u001b[0m\u001b[0;32m      5\u001b[0m     \u001b[1;32mfinally\u001b[0m\u001b[1;33m:\u001b[0m\u001b[1;33m\u001b[0m\u001b[1;33m\u001b[0m\u001b[0m\n\u001b[0;32m      6\u001b[0m         \u001b[0mprint\u001b[0m\u001b[1;33m(\u001b[0m\u001b[1;34m'after f'\u001b[0m\u001b[1;33m)\u001b[0m\u001b[1;33m\u001b[0m\u001b[1;33m\u001b[0m\u001b[0m\n",
      "\u001b[1;31mNameError\u001b[0m: name 'f' is not defined"
     ]
    }
   ],
   "source": [
    "#Question 16b\n",
    "def a():\n",
    "    try:\n",
    "        f(x, 4)\n",
    "    finally:\n",
    "        print('after f')\n",
    "        print('after f?')\n",
    "a()"
   ]
  },
  {
   "cell_type": "code",
   "execution_count": null,
   "id": "fd358f46",
   "metadata": {},
   "outputs": [],
   "source": []
  }
 ],
 "metadata": {
  "kernelspec": {
   "display_name": "Python 3",
   "language": "python",
   "name": "python3"
  },
  "language_info": {
   "codemirror_mode": {
    "name": "ipython",
    "version": 3
   },
   "file_extension": ".py",
   "mimetype": "text/x-python",
   "name": "python",
   "nbconvert_exporter": "python",
   "pygments_lexer": "ipython3",
   "version": "3.8.8"
  }
 },
 "nbformat": 4,
 "nbformat_minor": 5
}
