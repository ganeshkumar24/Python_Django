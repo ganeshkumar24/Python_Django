{
 "cells": [
  {
   "cell_type": "code",
   "execution_count": 6,
   "id": "1636bbfb",
   "metadata": {},
   "outputs": [
    {
     "name": "stdout",
     "output_type": "stream",
     "text": [
      "-1\n"
     ]
    }
   ],
   "source": [
    "#a = [-4,-1,0,1,2,3,6]\n",
    "#a = [-4, -2,  2,  6,  6,  6,  6, 10]\n",
    "a = [-4, -2,  1,  6,  6,  6,  7, 10]\n",
    "result = -1\n",
    "#O(n) Solution\n",
    "length = len(a)\n",
    "for i in range(length):\n",
    "    if(i==a[i]):\n",
    "        result = i\n",
    "        break\n",
    "print(result)"
   ]
  },
  {
   "cell_type": "code",
   "execution_count": 14,
   "id": "49915e63",
   "metadata": {},
   "outputs": [
    {
     "name": "stdout",
     "output_type": "stream",
     "text": [
      "0 8\n",
      "0 4\n"
     ]
    },
    {
     "data": {
      "text/plain": [
       "2"
      ]
     },
     "execution_count": 14,
     "metadata": {},
     "output_type": "execute_result"
    }
   ],
   "source": [
    "a = [-4,-1,0,1,2,3,6]\n",
    "a = [-4, -2,  2,  6,  6,  6,  6, 10]\n",
    "#a = [-4, -2,  1,  6,  6,  6,  7, 10]\n",
    "\n",
    "#O(logn) solution\n",
    "def is_index_and_value_same(a):\n",
    "    length = len(a)\n",
    "    i = 0\n",
    "    j = len(a)\n",
    "    while(i<j):\n",
    "        print(i,j)\n",
    "        mid = (i+j)//2\n",
    "        if(mid == a[mid]):\n",
    "            return(mid)\n",
    "            break\n",
    "        elif(mid > a[mid]):\n",
    "            i = mid\n",
    "        else:\n",
    "            j =mid\n",
    "    return(-1)\n",
    "    \n",
    "is_index_and_value_same(a)"
   ]
  },
  {
   "cell_type": "code",
   "execution_count": null,
   "id": "6d716233",
   "metadata": {},
   "outputs": [],
   "source": []
  }
 ],
 "metadata": {
  "kernelspec": {
   "display_name": "Python 3",
   "language": "python",
   "name": "python3"
  },
  "language_info": {
   "codemirror_mode": {
    "name": "ipython",
    "version": 3
   },
   "file_extension": ".py",
   "mimetype": "text/x-python",
   "name": "python",
   "nbconvert_exporter": "python",
   "pygments_lexer": "ipython3",
   "version": "3.8.8"
  }
 },
 "nbformat": 4,
 "nbformat_minor": 5
}
