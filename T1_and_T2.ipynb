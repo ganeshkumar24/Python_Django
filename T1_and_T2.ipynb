{
 "cells": [
  {
   "cell_type": "markdown",
   "id": "eb572d25",
   "metadata": {},
   "source": [
    "# Task 1"
   ]
  },
  {
   "cell_type": "code",
   "execution_count": 1,
   "id": "8b42035c",
   "metadata": {},
   "outputs": [
    {
     "name": "stdout",
     "output_type": "stream",
     "text": [
      "1 2.01 string\n"
     ]
    }
   ],
   "source": [
    "# Question 1\n",
    "a = 1\n",
    "b = 2.01\n",
    "c = 'string'\n",
    "print(a,b,c)"
   ]
  },
  {
   "cell_type": "code",
   "execution_count": 3,
   "id": "1832d0da",
   "metadata": {},
   "outputs": [
    {
     "name": "stdout",
     "output_type": "stream",
     "text": [
      "5 (2+3j)\n",
      "(2+3j) 5\n"
     ]
    }
   ],
   "source": [
    "#Question 3\n",
    "a = 5\n",
    "b = 2+3j\n",
    "print(a,b)\n",
    "#swap without third variable\n",
    "a,b = b,a\n",
    "print(a,b)"
   ]
  },
  {
   "cell_type": "code",
   "execution_count": 4,
   "id": "c25620bd",
   "metadata": {},
   "outputs": [
    {
     "name": "stdout",
     "output_type": "stream",
     "text": [
      "7 3.5\n",
      "3.5 7\n"
     ]
    }
   ],
   "source": [
    "#Question 2\n",
    "a = 7\n",
    "b = 3.5\n",
    "print(a,b)\n",
    "c = a\n",
    "a = b\n",
    "b = c\n",
    "print(a,b)"
   ]
  },
  {
   "cell_type": "code",
   "execution_count": 8,
   "id": "c4c0999d",
   "metadata": {},
   "outputs": [
    {
     "name": "stdout",
     "output_type": "stream",
     "text": [
      "Enter a number: 45\n",
      "Typed number is  45\n"
     ]
    }
   ],
   "source": [
    "#Question 4\n",
    "x = int(input(\"Enter a number: \"))\n",
    "#print x #Python 2\n",
    "print(\"Typed number is \",x) #Python 3"
   ]
  },
  {
   "cell_type": "code",
   "execution_count": 9,
   "id": "99fa0324",
   "metadata": {},
   "outputs": [
    {
     "name": "stdout",
     "output_type": "stream",
     "text": [
      "Enter the first number(1-10): 3\n",
      "Enter the second number(1-10): 4\n",
      "result is  7\n"
     ]
    }
   ],
   "source": [
    "#Question 5\n",
    "x = int(input(\"Enter the first number(1-10): \"))\n",
    "y = int(input(\"Enter the second number(1-10): \"))\n",
    "z = x+y\n",
    "result = z+30\n",
    "print(\"result is \",result)"
   ]
  },
  {
   "cell_type": "code",
   "execution_count": 23,
   "id": "1919287c",
   "metadata": {},
   "outputs": [
    {
     "name": "stdout",
     "output_type": "stream",
     "text": [
      "Enter the value: \"abc\"\n",
      "<class 'str'>\n"
     ]
    }
   ],
   "source": [
    "#Question 6\n",
    "#Check the datatype of typed value\n",
    "x = eval(input(\"Enter the value: \"))\n",
    "print(type(x))"
   ]
  },
  {
   "cell_type": "code",
   "execution_count": 26,
   "id": "d535b9b8",
   "metadata": {},
   "outputs": [
    {
     "name": "stdout",
     "output_type": "stream",
     "text": [
      "Enter a sentence: He is Silva\n",
      "HeIsSilva\n",
      "heIsSilva\n",
      "he_is_silva\n",
      "HEISSILVA\n"
     ]
    }
   ],
   "source": [
    "#Question 7\n",
    "#Upper Camel Case, Lower Camel Case, Snake Case, Upper Case\n",
    "x = input(\"Enter a sentence: \")\n",
    "words = x.split()\n",
    "upper_camel = \"\".join(word[0].upper()+word[1:].lower() for word in words)\n",
    "lower_camel = upper_camel[0].lower()+upper_camel[1:]\n",
    "snake_case = \"_\".join(word.lower() for word in words)\n",
    "upper_case = \" \".join(word.upper() for word in words)\n",
    "print(upper_camel)\n",
    "print(lower_camel)\n",
    "print(snake_case)\n",
    "print(upper_case)"
   ]
  },
  {
   "cell_type": "code",
   "execution_count": 27,
   "id": "39d5e45f",
   "metadata": {},
   "outputs": [
    {
     "name": "stdout",
     "output_type": "stream",
     "text": [
      "<class 'int'>\n",
      "<class 'str'>\n"
     ]
    }
   ],
   "source": [
    "#Question 8\n",
    "#Yes it will change its type\n",
    "a = 1\n",
    "print(type(a))\n",
    "a = \"abc\"\n",
    "print(type(a))"
   ]
  },
  {
   "cell_type": "markdown",
   "id": "475aa4fc",
   "metadata": {},
   "source": [
    "# Task 2"
   ]
  },
  {
   "cell_type": "code",
   "execution_count": 29,
   "id": "5b256ded",
   "metadata": {},
   "outputs": [
    {
     "name": "stdout",
     "output_type": "stream",
     "text": [
      "Enter a number: 15\n",
      "Consultadd-Python Training\n"
     ]
    }
   ],
   "source": [
    "#Question 1\n",
    "x = int(input(\"Enter a number: \"))\n",
    "if(x%3==0 and x%5 !=0):\n",
    "    print(\"Consutadd\")\n",
    "elif(x%3!=0 and x%5==0):\n",
    "    print(\"Python Training\")\n",
    "elif(x%3==0 and x%5==0):\n",
    "    print(\"Consultadd-Python Training\")"
   ]
  },
  {
   "cell_type": "code",
   "execution_count": 30,
   "id": "62e193cf",
   "metadata": {},
   "outputs": [
    {
     "name": "stdout",
     "output_type": "stream",
     "text": [
      "1: Addition\n",
      "2: Subtraction\n",
      "3: Division\n",
      "4: Multiplication\n",
      "5: Average\n",
      "Enter the option number between 1-5: 2\n",
      "Enter number 1: 5\n",
      "Enter number 2: 23\n",
      "output is  -18\n"
     ]
    }
   ],
   "source": [
    "#Question 2\n",
    "print(\"1: Addition\")\n",
    "print(\"2: Subtraction\")\n",
    "print(\"3: Division\")\n",
    "print(\"4: Multiplication\")\n",
    "print(\"5: Average\")\n",
    "x = int(input(\"Enter the option number between 1-5: \"))\n",
    "num1 = int(input(\"Enter number 1: \"))\n",
    "num2 = int(input(\"Enter number 2: \"))\n",
    "output = 0\n",
    "if(x==1):\n",
    "    output = num1+num2\n",
    "elif(x==2):\n",
    "    output = num1-num2\n",
    "elif(x==3):\n",
    "    output = num1/num2\n",
    "elif(x==4):\n",
    "    output = num1*num2\n",
    "elif(x==5):\n",
    "    num3 = int(input(\"Enter number 3: \"))\n",
    "    num4 = int(input(\"Enter number 4: \"))\n",
    "    output = (num1+num2+num3+num4)/4\n",
    "    \n",
    "print(\"output is \",output)\n",
    "if(output < 0):\n",
    "    print(\"NEGATIVE\")\n",
    "\n",
    "\n"
   ]
  },
  {
   "cell_type": "code",
   "execution_count": 31,
   "id": "cfe75068",
   "metadata": {},
   "outputs": [
    {
     "name": "stdout",
     "output_type": "stream",
     "text": [
      "avg= 20.0\n",
      "avg is just higher than a\n"
     ]
    }
   ],
   "source": [
    "#Question 3\n",
    "a = 10\n",
    "b = 20\n",
    "c = 30\n",
    "avg = (a+b+c)/3\n",
    "print(\"avg=\",avg)\n",
    "if(avg>a and avg>b and avg>c):\n",
    "    print(\"avg is greater than a,b,c\")\n",
    "else:\n",
    "    if(avg>a and avg>b):\n",
    "        print(\"avg is greater than a,b\")\n",
    "    elif(avg>a and avg>c):\n",
    "        print(\"avg is greater than a,c\")\n",
    "    elif(avg>b and avg>c):\n",
    "        print(\"avg is greater than b,c\")\n",
    "    else:\n",
    "        if(avg > a):\n",
    "            print(\"avg is just higher than a\")\n",
    "        elif(avg > b):\n",
    "            print(\"avg is just higher than b\")\n",
    "        else:\n",
    "            print(\"avg is just higher than c\")\n",
    "            \n",
    "    \n",
    "        "
   ]
  },
  {
   "cell_type": "code",
   "execution_count": 33,
   "id": "b44668a1",
   "metadata": {},
   "outputs": [
    {
     "name": "stdout",
     "output_type": "stream",
     "text": [
      "Enter a number: 3\n",
      "Good Going!\n",
      "Enter a number: 4\n",
      "Good Going!\n",
      "Enter a number: 5\n",
      "Good Going!\n",
      "Enter a number: -1\n",
      "It's over\n"
     ]
    }
   ],
   "source": [
    "#Question 4\n",
    "while(True):\n",
    "    num = int(input(\"Enter a number: \"))\n",
    "    if(num < 0):\n",
    "        print(\"It's over\")\n",
    "        break;\n",
    "    else:\n",
    "        print(\"Good Going!\")\n",
    "        continue\n",
    "    "
   ]
  },
  {
   "cell_type": "code",
   "execution_count": 35,
   "id": "1ae2cf4e",
   "metadata": {},
   "outputs": [
    {
     "name": "stdout",
     "output_type": "stream",
     "text": [
      "2002\n",
      "2009\n",
      "2016\n",
      "2023\n",
      "2037\n",
      "2044\n",
      "2051\n",
      "2058\n",
      "2072\n",
      "2079\n",
      "2086\n",
      "2093\n",
      "2107\n",
      "2114\n",
      "2121\n",
      "2128\n",
      "2142\n",
      "2149\n",
      "2156\n",
      "2163\n",
      "2177\n",
      "2184\n",
      "2191\n",
      "2198\n",
      "2212\n",
      "2219\n",
      "2226\n",
      "2233\n",
      "2247\n",
      "2254\n",
      "2261\n",
      "2268\n",
      "2282\n",
      "2289\n",
      "2296\n",
      "2303\n",
      "2317\n",
      "2324\n",
      "2331\n",
      "2338\n",
      "2352\n",
      "2359\n",
      "2366\n",
      "2373\n",
      "2387\n",
      "2394\n",
      "2401\n",
      "2408\n",
      "2422\n",
      "2429\n",
      "2436\n",
      "2443\n",
      "2457\n",
      "2464\n",
      "2471\n",
      "2478\n",
      "2492\n",
      "2499\n",
      "2506\n",
      "2513\n",
      "2527\n",
      "2534\n",
      "2541\n",
      "2548\n",
      "2562\n",
      "2569\n",
      "2576\n",
      "2583\n",
      "2597\n",
      "2604\n",
      "2611\n",
      "2618\n",
      "2632\n",
      "2639\n",
      "2646\n",
      "2653\n",
      "2667\n",
      "2674\n",
      "2681\n",
      "2688\n",
      "2702\n",
      "2709\n",
      "2716\n",
      "2723\n",
      "2737\n",
      "2744\n",
      "2751\n",
      "2758\n",
      "2772\n",
      "2779\n",
      "2786\n",
      "2793\n",
      "2807\n",
      "2814\n",
      "2821\n",
      "2828\n",
      "2842\n",
      "2849\n",
      "2856\n",
      "2863\n",
      "2877\n",
      "2884\n",
      "2891\n",
      "2898\n",
      "2912\n",
      "2919\n",
      "2926\n",
      "2933\n",
      "2947\n",
      "2954\n",
      "2961\n",
      "2968\n",
      "2982\n",
      "2989\n",
      "2996\n",
      "3003\n",
      "3017\n",
      "3024\n",
      "3031\n",
      "3038\n",
      "3052\n",
      "3059\n",
      "3066\n",
      "3073\n",
      "3087\n",
      "3094\n",
      "3101\n",
      "3108\n",
      "3122\n",
      "3129\n",
      "3136\n",
      "3143\n",
      "3157\n",
      "3164\n",
      "3171\n",
      "3178\n",
      "3192\n",
      "3199\n"
     ]
    }
   ],
   "source": [
    "#Question 5\n",
    "for num in range(2000,3201):\n",
    "    if(num%7==0 and num%5!=0):\n",
    "        print(num)"
   ]
  },
  {
   "cell_type": "code",
   "execution_count": 38,
   "id": "d6446c00",
   "metadata": {},
   "outputs": [
    {
     "name": "stdout",
     "output_type": "stream",
     "text": [
      "0\n",
      "1\n",
      "2\n",
      "3\n",
      "4\n"
     ]
    }
   ],
   "source": [
    "#Question 6\n",
    "\n",
    "#program 1: output is error\n",
    "# x =123\n",
    "# for i in x:\n",
    "#     print(i)\n",
    "\n",
    "#program 2: output is:\n",
    "# 0\n",
    "# error\n",
    "# 1\n",
    "# error\n",
    "# 2\n",
    "# error\n",
    "# i=0\n",
    "# while(i<5):\n",
    "#     print(i)\n",
    "#     i+=1\n",
    "#     if i==3:\n",
    "#         break\n",
    "#     else:\n",
    "#         print(\"error\")\n",
    "#program 3: output is\n",
    "# 0\n",
    "# 1\n",
    "# 2\n",
    "# 3\n",
    "# 4\n",
    "# count =0\n",
    "# while True:\n",
    "#     print(count)\n",
    "#     count+=1\n",
    "#     if count>=5:\n",
    "#         break\n"
   ]
  },
  {
   "cell_type": "code",
   "execution_count": 39,
   "id": "80b96b76",
   "metadata": {},
   "outputs": [
    {
     "name": "stdout",
     "output_type": "stream",
     "text": [
      "0\n",
      "1\n",
      "2\n",
      "4\n",
      "5\n"
     ]
    }
   ],
   "source": [
    "#Question 7\n",
    "for i in range(0,6):\n",
    "    if i==3 or i==6:\n",
    "        continue\n",
    "    else:\n",
    "        print(i)"
   ]
  },
  {
   "cell_type": "code",
   "execution_count": 40,
   "id": "bf16ef10",
   "metadata": {},
   "outputs": [
    {
     "name": "stdout",
     "output_type": "stream",
     "text": [
      "Enter a string: consul72\n",
      "2 6\n"
     ]
    }
   ],
   "source": [
    "#Question 8\n",
    "str1 = str(input(\"Enter a string: \"))\n",
    "letter = 0\n",
    "digit = 0\n",
    "for s in str1:\n",
    "    if(s.isdigit()):\n",
    "        digit+=1\n",
    "    if(s.isalpha()):\n",
    "        letter+=1\n",
    "print(digit,letter)"
   ]
  },
  {
   "cell_type": "code",
   "execution_count": 41,
   "id": "b361d3f5",
   "metadata": {},
   "outputs": [
    {
     "name": "stdout",
     "output_type": "stream",
     "text": [
      "Enter a number: 3\n",
      "Enter a number: 4\n",
      "Enter a number: 24\n",
      "Guessed right!\n"
     ]
    }
   ],
   "source": [
    "#Question 9\n",
    "#part 1:\n",
    "lucky_num = 24\n",
    "while True:\n",
    "    num = int(input(\"Enter a number: \"))\n",
    "    if(num == lucky_num):\n",
    "        print(\"Guessed right!\")\n",
    "        break\n",
    "    else:\n",
    "        continue\n",
    "    "
   ]
  },
  {
   "cell_type": "code",
   "execution_count": 42,
   "id": "49fe2564",
   "metadata": {},
   "outputs": [
    {
     "name": "stdout",
     "output_type": "stream",
     "text": [
      "Do you want to guess:Y/N Y\n",
      "Enter a number: 3\n",
      "Do you want to guess:Y/N N\n"
     ]
    }
   ],
   "source": [
    "#Question 9\n",
    "#part 2:\n",
    "lucky_num = 24\n",
    "while True:\n",
    "    guess = str(input(\"Do you want to guess:Y/N \"))\n",
    "    if(guess=='Y'):\n",
    "        num = int(input(\"Enter a number: \"))\n",
    "        if(num == lucky_num):\n",
    "            print(\"Guessed right!\")\n",
    "            break\n",
    "    elif(guess=='N'):\n",
    "        break\n",
    "    else:\n",
    "        print(\"type Y or N\")\n",
    "        "
   ]
  },
  {
   "cell_type": "code",
   "execution_count": 43,
   "id": "ea231e0d",
   "metadata": {},
   "outputs": [
    {
     "name": "stdout",
     "output_type": "stream",
     "text": [
      "Enter the guess: 4\n",
      "Try again!\n",
      "Enter the guess: 5\n",
      "Try again!\n",
      "Enter the guess: 24\n",
      "Guessed right!\n"
     ]
    }
   ],
   "source": [
    "#Question 10\n",
    "lucky_num = 24\n",
    "counter = 1\n",
    "while counter<5:\n",
    "    num = int(input(\"Enter the guess: \"))\n",
    "    if(num == lucky_num):\n",
    "        print(\"Guessed right!\")\n",
    "    else:\n",
    "        print(\"Try again!\")\n",
    "    counter+=1"
   ]
  },
  {
   "cell_type": "code",
   "execution_count": null,
   "id": "dd2c0295",
   "metadata": {},
   "outputs": [],
   "source": [
    "#Question 11\n",
    "lucky_num = 24\n",
    "counter = 1\n",
    "while counter<5:\n",
    "    num = int(input(\"Enter the guess: \"))\n",
    "    if(num == lucky_num):\n",
    "        print(\"Guessed right!\")\n",
    "        break\n",
    "    else:\n",
    "        print(\"Try again!\")\n",
    "    counter+=1"
   ]
  }
 ],
 "metadata": {
  "kernelspec": {
   "display_name": "Python 3",
   "language": "python",
   "name": "python3"
  },
  "language_info": {
   "codemirror_mode": {
    "name": "ipython",
    "version": 3
   },
   "file_extension": ".py",
   "mimetype": "text/x-python",
   "name": "python",
   "nbconvert_exporter": "python",
   "pygments_lexer": "ipython3",
   "version": "3.8.8"
  }
 },
 "nbformat": 4,
 "nbformat_minor": 5
}
