{
 "cells": [
  {
   "cell_type": "markdown",
   "id": "eb572d25",
   "metadata": {},
   "source": [
    "# Task 5"
   ]
  },
  {
   "cell_type": "code",
   "execution_count": 30,
   "id": "8b42035c",
   "metadata": {},
   "outputs": [
    {
     "name": "stdout",
     "output_type": "stream",
     "text": [
      "You cannot do that\n"
     ]
    }
   ],
   "source": [
    "# Question 1\n",
    "# Syntas Error can only be csught with eval, exec or import\n",
    "try:\n",
    "    eval('x === x')\n",
    "except SyntaxError:\n",
    "    print(\"You cannot do that\")"
   ]
  },
  {
   "cell_type": "code",
   "execution_count": null,
   "id": "78a2c3b7",
   "metadata": {},
   "outputs": [],
   "source": []
  },
  {
   "cell_type": "code",
   "execution_count": 2,
   "id": "1832d0da",
   "metadata": {},
   "outputs": [],
   "source": [
    "#Question 2\n",
    "filename = input(\"Please enter the file name\")\n",
    "try:\n",
    "    with open(filename, 'rb') as f:\n",
    "        f.read(5)\n",
    "except IOError:\n",
    "    print \"Could not read file:\", fName"
   ]
  },
  {
   "cell_type": "code",
   "execution_count": 31,
   "id": "c25620bd",
   "metadata": {},
   "outputs": [
    {
     "name": "stdout",
     "output_type": "stream",
     "text": [
      "Enter 4 digit number only1\n",
      "provide 4 digit number only\n"
     ]
    }
   ],
   "source": [
    "#Question 3\n",
    "try:\n",
    "    x = input(\"Enter 4 digit number only\")\n",
    "    if(len(x)!=4):\n",
    "        raise ValueError\n",
    "except ValueError:\n",
    "    print(\"provide 4 digit number only\")"
   ]
  },
  {
   "cell_type": "code",
   "execution_count": 4,
   "id": "c4c0999d",
   "metadata": {},
   "outputs": [],
   "source": [
    "#Question 4\n"
   ]
  },
  {
   "cell_type": "code",
   "execution_count": 5,
   "id": "99fa0324",
   "metadata": {},
   "outputs": [],
   "source": [
    "#Question 5\n"
   ]
  },
  {
   "cell_type": "code",
   "execution_count": 21,
   "id": "1919287c",
   "metadata": {},
   "outputs": [
    {
     "name": "stdout",
     "output_type": "stream",
     "text": [
      "Hello I am a file\n",
      "\n"
     ]
    }
   ],
   "source": [
    "#Question 6\n",
    "with open(\"doc.txt\",\"r\") as f:\n",
    "    lines = f.readlines()\n",
    "for line in lines:\n",
    "    #print(line, len(line))\n",
    "    if(len(line)%2==0):\n",
    "        print(line)"
   ]
  },
  {
   "cell_type": "markdown",
   "id": "475aa4fc",
   "metadata": {},
   "source": [
    "# Task 6"
   ]
  },
  {
   "cell_type": "code",
   "execution_count": 21,
   "id": "5b256ded",
   "metadata": {},
   "outputs": [
    {
     "name": "stdout",
     "output_type": "stream",
     "text": [
      "['A', 'D', 'E', 'H', 'I', 'J', 'K', 'Q', 'U', 'V', 'W', 'Y']\n"
     ]
    }
   ],
   "source": [
    "#Question 1\n",
    "str1 = \"AbcDEfgHIJKlmnopQrstUVWxYz\"\n",
    "upper_letters = [i for i in str1 if i.isupper()]\n",
    "print(upper_letters)"
   ]
  },
  {
   "cell_type": "code",
   "execution_count": 25,
   "id": "62e193cf",
   "metadata": {},
   "outputs": [
    {
     "name": "stdout",
     "output_type": "stream",
     "text": [
      "{'Smit': 'CSE', 'Jaya': 'Networking', 'Rayyan': 'Operating System'}\n"
     ]
    }
   ],
   "source": [
    "#Question 2\n",
    "students = ['Smita', 'Jaya', 'Rayyan']\n",
    "subjects = ['CSE', 'Networking', 'Operating System']\n",
    "output = {i:j for i,j in zip(students,subjects)}\n",
    "print(output)"
   ]
  },
  {
   "cell_type": "code",
   "execution_count": 11,
   "id": "cfe75068",
   "metadata": {},
   "outputs": [],
   "source": [
    "#Question 3\n",
    "\n",
    "\n",
    "            \n",
    "    \n",
    "        "
   ]
  },
  {
   "cell_type": "code",
   "execution_count": 5,
   "id": "b44668a1",
   "metadata": {},
   "outputs": [
    {
     "name": "stdout",
     "output_type": "stream",
     "text": [
      "gniniarT ddatlusnoC\n"
     ]
    }
   ],
   "source": [
    "#Question 4\n",
    "#reverse a string using generators\n",
    "str1 = \"Consultadd Training\"\n",
    "def reverse(n):\n",
    "    for i in range(len(n)-1,-1,-1):\n",
    "        yield n[i]\n",
    "x = reverse(str1)\n",
    "output = \"\"\n",
    "for i in x:\n",
    "    output+=i\n",
    "print(output)\n",
    "\n",
    "    "
   ]
  },
  {
   "cell_type": "code",
   "execution_count": 9,
   "id": "1ae2cf4e",
   "metadata": {},
   "outputs": [
    {
     "name": "stdout",
     "output_type": "stream",
     "text": [
      "Nothing Hi\n"
     ]
    }
   ],
   "source": [
    "#Question 5\n",
    "#Decorator example\n",
    "def show(a):\n",
    "    print(\"Nothing\",a)\n",
    "def decor(func,a):\n",
    "    func(a)\n",
    "decor(show,\"Hi\")"
   ]
  },
  {
   "cell_type": "code",
   "execution_count": 14,
   "id": "d6446c00",
   "metadata": {},
   "outputs": [],
   "source": [
    "\n"
   ]
  },
  {
   "cell_type": "code",
   "execution_count": null,
   "id": "531bf638",
   "metadata": {},
   "outputs": [],
   "source": []
  },
  {
   "cell_type": "code",
   "execution_count": null,
   "id": "2b83cee8",
   "metadata": {},
   "outputs": [],
   "source": []
  }
 ],
 "metadata": {
  "kernelspec": {
   "display_name": "Python 3",
   "language": "python",
   "name": "python3"
  },
  "language_info": {
   "codemirror_mode": {
    "name": "ipython",
    "version": 3
   },
   "file_extension": ".py",
   "mimetype": "text/x-python",
   "name": "python",
   "nbconvert_exporter": "python",
   "pygments_lexer": "ipython3",
   "version": "3.8.8"
  }
 },
 "nbformat": 4,
 "nbformat_minor": 5
}
